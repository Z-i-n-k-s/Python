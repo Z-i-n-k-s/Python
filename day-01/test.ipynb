{
 "cells": [
  {
   "cell_type": "code",
   "execution_count": 1,
   "metadata": {},
   "outputs": [
    {
     "data": {
      "text/plain": [
       "2"
      ]
     },
     "execution_count": 1,
     "metadata": {},
     "output_type": "execute_result"
    }
   ],
   "source": [
    "1+1"
   ]
  },
  {
   "cell_type": "code",
   "execution_count": 2,
   "metadata": {},
   "outputs": [
    {
     "name": "stdout",
     "output_type": "stream",
     "text": [
      "hello world\n"
     ]
    }
   ],
   "source": [
    "print('hello world')"
   ]
  },
  {
   "cell_type": "code",
   "execution_count": 1,
   "metadata": {},
   "outputs": [
    {
     "name": "stdout",
     "output_type": "stream",
     "text": [
      " what do want to do ? \n",
      "\n",
      "1 . add \n",
      "2 . subtract \n",
      "3 . multiply \n",
      "4 . division \n",
      "5 . modulus \n",
      "6 . exponent \n",
      "10.0\n"
     ]
    }
   ],
   "source": [
    "num1=float(input(\"enter number 1 : \"))\n",
    "num2 = float(input (\"enter number 2 : \"))\n",
    "\n",
    "print (\" what do want to do ? \\n\")\n",
    "print(\"1 . add \")\n",
    "print(\"2 . subtract \")\n",
    "print(\"3 . multiply \")\n",
    "print(\"4 . division \")\n",
    "print(\"5 . modulus \")\n",
    "print(\"6 . exponent \")\n",
    "c=int(input(\"enter choice\"))\n",
    "if c==1 :\n",
    "        print(num1+num2)\n",
    "if c==2 :\n",
    "        print(num1-num2)\n",
    "if c==3 :\n",
    "        print(num1*num2)\n",
    "if c==4 :\n",
    "        print(num1/num2)\n",
    "if c==5 :\n",
    "        print(num1%num2)\n",
    "if c==6 :\n",
    "        print(num1**num2)\n",
    "        "
   ]
  },
  {
   "cell_type": "code",
   "execution_count": 8,
   "metadata": {},
   "outputs": [
    {
     "name": "stdout",
     "output_type": "stream",
     "text": [
      "47.2\n",
      "<class 'float'>\n"
     ]
    }
   ],
   "source": [
    "a=3.2\n",
    "b=44\n",
    "c=a+b\n",
    "print(c)\n",
    "print(type(c))"
   ]
  }
 ],
 "metadata": {
  "kernelspec": {
   "display_name": "Python 3",
   "language": "python",
   "name": "python3"
  },
  "language_info": {
   "codemirror_mode": {
    "name": "ipython",
    "version": 3
   },
   "file_extension": ".py",
   "mimetype": "text/x-python",
   "name": "python",
   "nbconvert_exporter": "python",
   "pygments_lexer": "ipython3",
   "version": "3.12.5"
  }
 },
 "nbformat": 4,
 "nbformat_minor": 2
}
