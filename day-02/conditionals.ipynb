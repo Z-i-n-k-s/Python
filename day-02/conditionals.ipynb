{
 "cells": [
  {
   "cell_type": "code",
   "execution_count": 1,
   "metadata": {},
   "outputs": [
    {
     "name": "stdout",
     "output_type": "stream",
     "text": [
      "hello world\n"
     ]
    }
   ],
   "source": [
    "print(\"hello world\")"
   ]
  },
  {
   "cell_type": "code",
   "execution_count": 10,
   "metadata": {},
   "outputs": [
    {
     "name": "stdout",
     "output_type": "stream",
     "text": [
      "Enter a number between 1 and 20:\n",
      "Congrats, you win!\n",
      "Enter 1 to continue playing or 0 to exit:\n",
      "Enter a number between 1 and 20:\n",
      "Your guess is too high. Guess again.\n",
      "Enter a number between 1 and 20:\n",
      "Your guess is too high. Guess again.\n",
      "Enter a number between 1 and 20:\n",
      "Your guess is too high. Guess again.\n",
      "You're out of guesses.\n",
      "The number was 2\n",
      "Enter 1 to continue playing or 0 to exit:\n",
      "Enter a number between 1 and 20:\n",
      "Out of range! Guess again.\n",
      "Enter a number between 1 and 20:\n",
      "Your guess is too low. Guess again.\n",
      "Enter a number between 1 and 20:\n",
      "Your guess is too high. Guess again.\n",
      "Enter a number between 1 and 20:\n",
      "Your guess is too high. Guess again.\n",
      "You're out of guesses.\n",
      "The number was 7\n",
      "Enter 1 to continue playing or 0 to exit:\n",
      "Game ended.\n"
     ]
    }
   ],
   "source": [
    "import random\n",
    "\n",
    "count = 0\n",
    "\n",
    "while True:\n",
    "    num1 = random.randint(1, 20)\n",
    "\n",
    "    while count < 3:\n",
    "        print(\"Enter a number between 1 and 20:\")\n",
    "        num = int(input())\n",
    "\n",
    "        if num > 20 or num < 1:\n",
    "            print(\"Out of range! Guess again.\")\n",
    "            continue\n",
    "\n",
    "        if num == num1:\n",
    "            print(\"Congrats, you win!\")\n",
    "            print(\"Enter 1 to continue playing or 0 to exit:\")\n",
    "            c = int(input())\n",
    "            if c == 0:\n",
    "                break\n",
    "            else:\n",
    "                break\n",
    "        elif num < num1:\n",
    "            print(\"Your guess is too low. Guess again.\")\n",
    "            count += 1\n",
    "            continue\n",
    "        else:\n",
    "            print(\"Your guess is too high. Guess again.\")\n",
    "            count += 1\n",
    "            continue\n",
    "\n",
    "    if count >= 3:\n",
    "        print(\"You're out of guesses.\")\n",
    "        print(\"The number was\", num1)\n",
    "        print(\"Enter 1 to continue playing or 0 to exit:\")\n",
    "        c = int(input())\n",
    "        if c == 0:\n",
    "            print(\"Game ended.\")\n",
    "            break\n",
    "        else:\n",
    "            count = 0\n",
    "            continue\n",
    "\n",
    "    if c == 0:\n",
    "        print(\"Game ended.\")\n",
    "        break\n",
    "    else:\n",
    "        count = 0\n",
    "        continue\n"
   ]
  },
  {
   "cell_type": "code",
   "execution_count": null,
   "metadata": {},
   "outputs": [],
   "source": []
  },
  {
   "cell_type": "code",
   "execution_count": null,
   "metadata": {},
   "outputs": [],
   "source": []
  },
  {
   "cell_type": "code",
   "execution_count": null,
   "metadata": {},
   "outputs": [],
   "source": []
  }
 ],
 "metadata": {
  "kernelspec": {
   "display_name": "Python 3",
   "language": "python",
   "name": "python3"
  },
  "language_info": {
   "codemirror_mode": {
    "name": "ipython",
    "version": 3
   },
   "file_extension": ".py",
   "mimetype": "text/x-python",
   "name": "python",
   "nbconvert_exporter": "python",
   "pygments_lexer": "ipython3",
   "version": "3.12.5"
  }
 },
 "nbformat": 4,
 "nbformat_minor": 2
}
